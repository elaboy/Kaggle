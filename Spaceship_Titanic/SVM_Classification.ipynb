{
 "cells": [
  {
   "cell_type": "code",
   "execution_count": 1,
   "id": "99dde93f-d180-42a7-becd-a3da47cc6ab7",
   "metadata": {},
   "outputs": [],
   "source": [
    "import numpy as np \n",
    "import pandas as pd\n",
    "from sklearn import svm\n",
    "from sklearn.model_selection import train_test_split\n",
    "from sklearn.metrics import accuracy_score"
   ]
  },
  {
   "cell_type": "code",
   "execution_count": 2,
   "id": "7dd0f376-ac12-41d9-b9c9-2ad64c08d7a5",
   "metadata": {},
   "outputs": [],
   "source": [
    "#This function cleans the data. trans=True is only for the training data, False for test data.\n",
    "\n",
    "def clean_training_set(dataframe, trans = True): \n",
    "    label_dict = {True:1, False:0}\n",
    "    planet_dict = {\"Earth\": 0, \"Mars\":1, \"Europa\":2}\n",
    "    destination_dict = {\"TRAPPIST-1e\":0, \"PSO J318.5-22\":1,\n",
    "                        \"55 Cancri e\":2}\n",
    "    \n",
    "    train_df = pd.read_csv(dataframe)\n",
    "    train_df[\"CryoSleep_Label\"] = train_df[\"CryoSleep\"].map(label_dict)\n",
    "    train_df[\"VIP_Label\"] = train_df[\"VIP\"].map(label_dict)\n",
    "    train_df[\"HomePlanet_Label\"] = train_df[\"HomePlanet\"].map(planet_dict)\n",
    "    train_df[\"Destination_Label\"] = train_df[\"Destination\"].map(planet_dict)\n",
    "    \n",
    "    #Fill NaN values with the column mean \n",
    "    train_df[\"Age\"].fillna(value=train_df[\"Age\"].mean(), inplace=True)\n",
    "    train_df[\"RoomService\"].fillna(value=train_df[\"RoomService\"].mean(), inplace=True)\n",
    "    train_df[\"FoodCourt\"].fillna(value=train_df[\"FoodCourt\"].mean(), inplace=True)\n",
    "    train_df[\"ShoppingMall\"].fillna(value=train_df[\"ShoppingMall\"].mean(), inplace=True)\n",
    "    train_df[\"Spa\"].fillna(value=train_df[\"Spa\"].mean(), inplace=True)\n",
    "    train_df[\"VRDeck\"].fillna(value=train_df[\"VRDeck\"].mean(), inplace=True)\n",
    "    #train_df[\"Transported_Label\"].fillna(value=train_df[\"Transported_Label\"].mean(), inplace=True)\n",
    "    train_df[\"CryoSleep_Label\"].fillna(value=train_df[\"CryoSleep_Label\"].mean(), inplace=True)\n",
    "    train_df[\"VIP_Label\"].fillna(value=train_df[\"VIP_Label\"].mean(), inplace=True)\n",
    "    train_df[\"HomePlanet_Label\"].fillna(value=train_df[\"HomePlanet_Label\"].mean(), inplace=True)\n",
    "    train_df[\"Destination_Label\"].fillna(value=train_df[\"Destination_Label\"].mean(), inplace=True)\n",
    "    \n",
    "    if trans == True:\n",
    "        train_df[\"Transported_Label\"] = train_df[\"Transported\"].map(label_dict)\n",
    "    else: \n",
    "        pass\n",
    "\n",
    "    if trans == True:\n",
    "        data_df = train_df[[\"Age\",\"HomePlanet_Label\",\"RoomService\",\"FoodCourt\",\n",
    "                        \"ShoppingMall\", \"Spa\", \"VRDeck\", \"Transported_Label\",\n",
    "                        \"CryoSleep_Label\", \"VIP_Label\"]]\n",
    "    else:\n",
    "        data_df = train_df[[\"Age\",\"HomePlanet_Label\",\"RoomService\",\"FoodCourt\",\n",
    "                        \"ShoppingMall\", \"Spa\", \"VRDeck\",\n",
    "                        \"CryoSleep_Label\", \"VIP_Label\"]]\n",
    "\n",
    "        \n",
    "        \n",
    "    return data_df"
   ]
  },
  {
   "cell_type": "code",
   "execution_count": 3,
   "id": "7d36e28f-e0f3-44e0-8681-829483bd6311",
   "metadata": {},
   "outputs": [],
   "source": [
    "data_df = clean_training_set(\"train.csv\")"
   ]
  },
  {
   "cell_type": "code",
   "execution_count": 4,
   "id": "80e60380-6d20-4f3a-ae14-3a743bb410d9",
   "metadata": {},
   "outputs": [],
   "source": [
    "X = data_df.drop([\"Transported_Label\"], axis=1).fillna(value=0)\n",
    "y = data_df[\"Transported_Label\"]"
   ]
  },
  {
   "cell_type": "code",
   "execution_count": 67,
   "id": "58266058-12da-4e0e-80ed-50424d8ca295",
   "metadata": {},
   "outputs": [],
   "source": [
    "X_train, X_test, y_train, y_test = train_test_split(X, y, test_size=0.30, \n",
    "                                                        random_state=42)"
   ]
  },
  {
   "cell_type": "code",
   "execution_count": 83,
   "id": "69adc4e8-c3e1-43b4-8b13-ed6b729813f4",
   "metadata": {},
   "outputs": [],
   "source": [
    "model = svm.SVC(random_state=1)"
   ]
  },
  {
   "cell_type": "code",
   "execution_count": 84,
   "id": "53cc53da-afa5-486d-ab03-c1ea094c7d43",
   "metadata": {},
   "outputs": [
    {
     "data": {
      "text/html": [
       "<style>#sk-container-id-10 {color: black;background-color: white;}#sk-container-id-10 pre{padding: 0;}#sk-container-id-10 div.sk-toggleable {background-color: white;}#sk-container-id-10 label.sk-toggleable__label {cursor: pointer;display: block;width: 100%;margin-bottom: 0;padding: 0.3em;box-sizing: border-box;text-align: center;}#sk-container-id-10 label.sk-toggleable__label-arrow:before {content: \"▸\";float: left;margin-right: 0.25em;color: #696969;}#sk-container-id-10 label.sk-toggleable__label-arrow:hover:before {color: black;}#sk-container-id-10 div.sk-estimator:hover label.sk-toggleable__label-arrow:before {color: black;}#sk-container-id-10 div.sk-toggleable__content {max-height: 0;max-width: 0;overflow: hidden;text-align: left;background-color: #f0f8ff;}#sk-container-id-10 div.sk-toggleable__content pre {margin: 0.2em;color: black;border-radius: 0.25em;background-color: #f0f8ff;}#sk-container-id-10 input.sk-toggleable__control:checked~div.sk-toggleable__content {max-height: 200px;max-width: 100%;overflow: auto;}#sk-container-id-10 input.sk-toggleable__control:checked~label.sk-toggleable__label-arrow:before {content: \"▾\";}#sk-container-id-10 div.sk-estimator input.sk-toggleable__control:checked~label.sk-toggleable__label {background-color: #d4ebff;}#sk-container-id-10 div.sk-label input.sk-toggleable__control:checked~label.sk-toggleable__label {background-color: #d4ebff;}#sk-container-id-10 input.sk-hidden--visually {border: 0;clip: rect(1px 1px 1px 1px);clip: rect(1px, 1px, 1px, 1px);height: 1px;margin: -1px;overflow: hidden;padding: 0;position: absolute;width: 1px;}#sk-container-id-10 div.sk-estimator {font-family: monospace;background-color: #f0f8ff;border: 1px dotted black;border-radius: 0.25em;box-sizing: border-box;margin-bottom: 0.5em;}#sk-container-id-10 div.sk-estimator:hover {background-color: #d4ebff;}#sk-container-id-10 div.sk-parallel-item::after {content: \"\";width: 100%;border-bottom: 1px solid gray;flex-grow: 1;}#sk-container-id-10 div.sk-label:hover label.sk-toggleable__label {background-color: #d4ebff;}#sk-container-id-10 div.sk-serial::before {content: \"\";position: absolute;border-left: 1px solid gray;box-sizing: border-box;top: 0;bottom: 0;left: 50%;z-index: 0;}#sk-container-id-10 div.sk-serial {display: flex;flex-direction: column;align-items: center;background-color: white;padding-right: 0.2em;padding-left: 0.2em;position: relative;}#sk-container-id-10 div.sk-item {position: relative;z-index: 1;}#sk-container-id-10 div.sk-parallel {display: flex;align-items: stretch;justify-content: center;background-color: white;position: relative;}#sk-container-id-10 div.sk-item::before, #sk-container-id-10 div.sk-parallel-item::before {content: \"\";position: absolute;border-left: 1px solid gray;box-sizing: border-box;top: 0;bottom: 0;left: 50%;z-index: -1;}#sk-container-id-10 div.sk-parallel-item {display: flex;flex-direction: column;z-index: 1;position: relative;background-color: white;}#sk-container-id-10 div.sk-parallel-item:first-child::after {align-self: flex-end;width: 50%;}#sk-container-id-10 div.sk-parallel-item:last-child::after {align-self: flex-start;width: 50%;}#sk-container-id-10 div.sk-parallel-item:only-child::after {width: 0;}#sk-container-id-10 div.sk-dashed-wrapped {border: 1px dashed gray;margin: 0 0.4em 0.5em 0.4em;box-sizing: border-box;padding-bottom: 0.4em;background-color: white;}#sk-container-id-10 div.sk-label label {font-family: monospace;font-weight: bold;display: inline-block;line-height: 1.2em;}#sk-container-id-10 div.sk-label-container {text-align: center;}#sk-container-id-10 div.sk-container {/* jupyter's `normalize.less` sets `[hidden] { display: none; }` but bootstrap.min.css set `[hidden] { display: none !important; }` so we also need the `!important` here to be able to override the default hidden behavior on the sphinx rendered scikit-learn.org. See: https://github.com/scikit-learn/scikit-learn/issues/21755 */display: inline-block !important;position: relative;}#sk-container-id-10 div.sk-text-repr-fallback {display: none;}</style><div id=\"sk-container-id-10\" class=\"sk-top-container\"><div class=\"sk-text-repr-fallback\"><pre>SVC(random_state=1)</pre><b>In a Jupyter environment, please rerun this cell to show the HTML representation or trust the notebook. <br />On GitHub, the HTML representation is unable to render, please try loading this page with nbviewer.org.</b></div><div class=\"sk-container\" hidden><div class=\"sk-item\"><div class=\"sk-estimator sk-toggleable\"><input class=\"sk-toggleable__control sk-hidden--visually\" id=\"sk-estimator-id-10\" type=\"checkbox\" checked><label for=\"sk-estimator-id-10\" class=\"sk-toggleable__label sk-toggleable__label-arrow\">SVC</label><div class=\"sk-toggleable__content\"><pre>SVC(random_state=1)</pre></div></div></div></div></div>"
      ],
      "text/plain": [
       "SVC(random_state=1)"
      ]
     },
     "execution_count": 84,
     "metadata": {},
     "output_type": "execute_result"
    }
   ],
   "source": [
    "model.fit(X_train, y_train)"
   ]
  },
  {
   "cell_type": "code",
   "execution_count": 85,
   "id": "92432440-5ed0-4b61-8e66-8014d6ae8e63",
   "metadata": {},
   "outputs": [
    {
     "data": {
      "text/plain": [
       "79.16187345932622"
      ]
     },
     "execution_count": 85,
     "metadata": {},
     "output_type": "execute_result"
    }
   ],
   "source": [
    "model.score(X_train, y_train)*100"
   ]
  },
  {
   "cell_type": "code",
   "execution_count": 71,
   "id": "41b66dfd-405c-4f20-8195-8207a3b2f136",
   "metadata": {},
   "outputs": [
    {
     "name": "stdout",
     "output_type": "stream",
     "text": [
      "[0 1 1 ... 0 1 1]\n"
     ]
    }
   ],
   "source": [
    "y_prediction = model.predict(X_test)\n",
    "print(y_prediction)"
   ]
  },
  {
   "cell_type": "code",
   "execution_count": 72,
   "id": "b195e387-f1a8-48fe-8c1e-8d3ca8f62597",
   "metadata": {},
   "outputs": [],
   "source": [
    "results = accuracy_score(y_test, y_prediction)"
   ]
  },
  {
   "cell_type": "code",
   "execution_count": 73,
   "id": "71b50098-a949-40d0-9418-dacab12ea52e",
   "metadata": {},
   "outputs": [
    {
     "name": "stdout",
     "output_type": "stream",
     "text": [
      "77.87576687116564\n"
     ]
    }
   ],
   "source": [
    "print(results*100)"
   ]
  },
  {
   "cell_type": "code",
   "execution_count": 77,
   "id": "176fc9d9-198b-4efe-b746-0169a950fa22",
   "metadata": {},
   "outputs": [
    {
     "name": "stdout",
     "output_type": "stream",
     "text": [
      "[1 0 1 ... 1 1 1]\n"
     ]
    }
   ],
   "source": [
    "final_submission = clean_training_set(\"test.csv\", trans=False)\n",
    "final_results = model.predict(final_submission.fillna(value=0))\n",
    "print(final_results)"
   ]
  },
  {
   "cell_type": "code",
   "execution_count": 16,
   "id": "0701a961-d263-4e3e-8a3a-7447b0e9c337",
   "metadata": {},
   "outputs": [],
   "source": [
    "final_df = pd.read_csv(\"test.csv\")\n",
    "final_df = final_df['PassengerId']\n",
    "Transported = pd.DataFrame(final_results)\n",
    "final = [final_df, Transported]\n",
    "final = pd.concat([final_df, Transported], axis=1, join=\"outer\")\n",
    "final.columns = [\"PassengerId\", \"Transported\"]\n",
    "label_dict = {0:\"False\", 1:\"True\"}\n",
    "final[\"Transported\"] = final[\"Transported\"].map(label_dict)\n",
    "final\n",
    "#final.to_csv(\"final_submission_SVM.csv\", index=False)"
   ]
  },
  {
   "cell_type": "code",
   "execution_count": null,
   "id": "5e189f69-5cba-4c0a-99ba-1a9785b26483",
   "metadata": {},
   "outputs": [],
   "source": []
  }
 ],
 "metadata": {
  "kernelspec": {
   "display_name": "Python 3 (ipykernel)",
   "language": "python",
   "name": "python3"
  },
  "language_info": {
   "codemirror_mode": {
    "name": "ipython",
    "version": 3
   },
   "file_extension": ".py",
   "mimetype": "text/x-python",
   "name": "python",
   "nbconvert_exporter": "python",
   "pygments_lexer": "ipython3",
   "version": "3.9.12"
  }
 },
 "nbformat": 4,
 "nbformat_minor": 5
}
